{
 "cells": [
  {
   "cell_type": "code",
   "id": "initial_id",
   "metadata": {
    "collapsed": true,
    "ExecuteTime": {
     "end_time": "2025-03-02T17:57:17.263556Z",
     "start_time": "2025-03-02T17:57:14.161259Z"
    }
   },
   "source": [
    "import requests # make a request to retrieve the page\n",
    "from bs4 import BeautifulSoup # html parser\n",
    "import pandas as pd"
   ],
   "outputs": [],
   "execution_count": 1
  },
  {
   "metadata": {},
   "cell_type": "markdown",
   "source": "## Make Connections",
   "id": "75c0be9cd2fa05d4"
  },
  {
   "metadata": {
    "ExecuteTime": {
     "end_time": "2025-03-02T17:57:26.079151Z",
     "start_time": "2025-03-02T17:57:24.706028Z"
    }
   },
   "cell_type": "code",
   "source": [
    "base_url = \"https://hotels.ng/hotels-in-abia\"\n",
    "header = {\"User-Agent\": \"Mozilla/5.0 (Windows NT 10.0; Win64; x64) AppleWebKit/537.36q (KHTML, like Gecko) Chrome/133.0.0.0 Safari/537.36\"}\n",
    "\n",
    "print(\"Connecting..\")\n",
    "response_page = requests.get(base_url, headers=header)\n",
    "\n",
    "if response_page.status_code == 200:\n",
    "    print(\"Connected Successfully\")\n",
    "else:\n",
    "    print(\"Connection not succesful!\")"
   ],
   "id": "d56050edf9807bb3",
   "outputs": [
    {
     "name": "stdout",
     "output_type": "stream",
     "text": [
      "Connecting..\n",
      "Connected Successfully\n"
     ]
    }
   ],
   "execution_count": 2
  },
  {
   "metadata": {},
   "cell_type": "markdown",
   "source": "## Parse the pages and begon scraping",
   "id": "1502cec0e7017b2e"
  },
  {
   "metadata": {
    "ExecuteTime": {
     "end_time": "2025-03-02T17:57:33.424869Z",
     "start_time": "2025-03-02T17:57:32.546437Z"
    }
   },
   "cell_type": "code",
   "source": [
    "# To parse the html page...\n",
    "parsed_page = BeautifulSoup(response_page.text, 'html.parser')\n",
    "\n",
    "target = parsed_page.find('div', id='topPicks')\n",
    "hotel_listing = target.find_all('div', class_=\"listing-hotels\")"
   ],
   "id": "cf419b77fb3f5927",
   "outputs": [],
   "execution_count": 3
  },
  {
   "metadata": {
    "ExecuteTime": {
     "end_time": "2025-03-03T06:10:53.176925Z",
     "start_time": "2025-03-03T06:10:52.928281Z"
    }
   },
   "cell_type": "code",
   "source": [
    "all_hotels_listing = []\n",
    "for listing in hotel_listing:\n",
    "    hotel_name = listing.find('h2', class_=\"listing-hotels-name\").text\n",
    "    hotel_address = listing.find('p', class_='listing-hotels-address color-dark').text.strip().split()\n",
    "    hotel_address = \" \".join(hotel_address).split(' - ')\n",
    "    address = hotel_address[1]\n",
    "    city = hotel_address[0].split(',')[0]\n",
    "    state = hotel_address[0].split(',')[1].strip()\n",
    "    price = listing.find('p', class_='listing-hotels-prices-discount').text\n",
    "    price = price.strip().split()[0].replace('₦', '').replace(',', '')\n",
    "    rated = listing.findChild('p', class_='listing-hotels-rating')\n",
    "    if rated is None:\n",
    "        rating = \"Not Available\"\n",
    "        index = \"No Index\"\n",
    "    else:\n",
    "        rating = rated.text.split(' - ')[0]\n",
    "        index = rated.text.split(' - ')[1]\n",
    "    facility = listing.find('div', class_='listing-hotels-facilities d-none d-md-flex')\n",
    "    if facility is None:\n",
    "        facilities = \"No facilities recorded\"\n",
    "    else:\n",
    "        all_facilities = facility.findChildren()\n",
    "        all_facilities = [fac.find('p').text for fac in all_facilities if fac.find('p') is not None]\n",
    "        all_facilities = \", \".join(all_facilities)\n",
    "    likes = listing.find('div', class_='listing-hotels-likes').text\n",
    "    likes = likes.strip().split()[0]\n",
    "    \n",
    "    hotels_listing = {\n",
    "        'hotel_name': hotel_name,\n",
    "        'hotel_address': address,\n",
    "        'city': city,\n",
    "        'state': state,\n",
    "        'price': price,\n",
    "        'rating': rating,\n",
    "        'rating_index': index,\n",
    "        'facilities': all_facilities,\n",
    "        'likes': likes\n",
    "    }\n",
    "    all_hotels_listing.append(hotels_listing)\n",
    "    \n",
    "print(all_hotels_listing)\n",
    "    "
   ],
   "id": "c7643c9cb3dbf53f",
   "outputs": [
    {
     "name": "stdout",
     "output_type": "stream",
     "text": [
      "[{'hotel_name': 'Luxury City Royal', 'hotel_address': '84b, Aba-owerri Road', 'city': 'Aba', 'state': 'Abia', 'price': '12500', 'rating': '5.8', 'rating_index': 'Good', 'facilities': 'Bar, Gym, Restaurant, Pool, Internet', 'likes': '2,618'}, {'hotel_name': 'Hotel Royal Damgrete', 'hotel_address': '1314 Factory Road, Gra', 'city': 'Umuahia', 'state': 'Abia', 'price': '35000', 'rating': '7', 'rating_index': 'Very Good', 'facilities': 'Bar, Restaurant, Pool, Internet', 'likes': '8,003'}, {'hotel_name': 'City Global Hotels', 'hotel_address': '32 Ekenna Avenue Off Okigwe Road', 'city': 'Aba', 'state': 'Abia', 'price': '9016', 'rating': '6.2', 'rating_index': 'Very Good', 'facilities': 'Bar, Restaurant, Pool', 'likes': '2,106'}, {'hotel_name': 'De Merit Executive Suite ', 'hotel_address': '2 Amaimo Eziama Ossa, Umuahia, Nigeria.', 'city': 'Umuahia', 'state': 'Abia', 'price': '8000', 'rating': '5.1', 'rating_index': 'Good', 'facilities': 'Bar, Restaurant', 'likes': '4,605'}, {'hotel_name': 'Ibiza Hotel & Resorts', 'hotel_address': '129 Okigwe Road, Aba', 'city': 'Aba', 'state': 'Abia', 'price': '55000', 'rating': 'Not Available', 'rating_index': 'No Index', 'facilities': 'Bar, Gym, Restaurant, Pool', 'likes': '2,410'}, {'hotel_name': 'Villa Roy Hotels ', 'hotel_address': '19 Mission Hill', 'city': 'Umuahia', 'state': 'Abia', 'price': '12000', 'rating': '7.8', 'rating_index': 'Very Good', 'facilities': 'Bar', 'likes': '2,402'}, {'hotel_name': 'Craycaston Hotels & Suites', 'hotel_address': '19 Nwaigwe Ave, Aba 450272, Aba', 'city': 'Aba', 'state': 'Abia', 'price': '35200', 'rating': 'Not Available', 'rating_index': 'No Index', 'facilities': 'Bar, Restaurant, Pool', 'likes': '3,818'}, {'hotel_name': 'New Edge Hotel', 'hotel_address': '113 Aba Road, Umuahia, Nigeria', 'city': 'Umuahia', 'state': 'Abia', 'price': '5400', 'rating': '7.3', 'rating_index': 'Very Good', 'facilities': 'Bar, Restaurant', 'likes': '807'}, {'hotel_name': 'Gado International Hotels', 'hotel_address': '59 Mission Hil, Umuahia, Nigeria.', 'city': 'Umuahia', 'state': 'Abia', 'price': '15500', 'rating': '7.5', 'rating_index': 'Very Good', 'facilities': 'Bar, Restaurant', 'likes': '2,818'}, {'hotel_name': 'Choppy Hotel ', 'hotel_address': 'Ogbodiukwu Umuopara Abia Tower, Umuahia Nigeria', 'city': 'Umuahia', 'state': 'Abia', 'price': '5000', 'rating': '8.4', 'rating_index': 'Excellent', 'facilities': 'Bar, Restaurant', 'likes': '2,307'}]\n"
     ]
    }
   ],
   "execution_count": 55
  }
 ],
 "metadata": {
  "kernelspec": {
   "display_name": "Python 3",
   "language": "python",
   "name": "python3"
  },
  "language_info": {
   "codemirror_mode": {
    "name": "ipython",
    "version": 2
   },
   "file_extension": ".py",
   "mimetype": "text/x-python",
   "name": "python",
   "nbconvert_exporter": "python",
   "pygments_lexer": "ipython2",
   "version": "2.7.6"
  }
 },
 "nbformat": 4,
 "nbformat_minor": 5
}
