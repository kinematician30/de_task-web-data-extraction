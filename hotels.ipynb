{
 "cells": [
  {
   "cell_type": "code",
   "id": "initial_id",
   "metadata": {
    "collapsed": true,
    "ExecuteTime": {
     "end_time": "2025-03-04T06:21:21.737816Z",
     "start_time": "2025-03-04T06:21:21.674790Z"
    }
   },
   "source": [
    "import requests # make a request to retrieve the page\n",
    "from bs4 import BeautifulSoup # html parser\n",
    "import pandas as pd"
   ],
   "outputs": [],
   "execution_count": 46
  },
  {
   "metadata": {},
   "cell_type": "markdown",
   "source": "## Make Connections",
   "id": "75c0be9cd2fa05d4"
  },
  {
   "metadata": {
    "ExecuteTime": {
     "end_time": "2025-03-04T05:22:35.764110Z",
     "start_time": "2025-03-04T05:22:34.989611Z"
    }
   },
   "cell_type": "code",
   "source": [
    "base_url = \"https://hotels.ng/hotels-in-abia\"\n",
    "header = {\"User-Agent\": \"Mozilla/5.0 (Windows NT 10.0; Win64; x64) AppleWebKit/537.36q (KHTML, like Gecko) Chrome/133.0.0.0 Safari/537.36\"}\n",
    "\n",
    "print(\"Connecting..\")\n",
    "response_page = requests.get(base_url, headers=header)\n",
    "\n",
    "if response_page.status_code == 200:\n",
    "    print(\"Connected Successfully\")\n",
    "else:\n",
    "    print(\"Connection not succesful!\")"
   ],
   "id": "d56050edf9807bb3",
   "outputs": [
    {
     "name": "stdout",
     "output_type": "stream",
     "text": [
      "Connecting..\n",
      "Connected Successfully\n"
     ]
    }
   ],
   "execution_count": 2
  },
  {
   "metadata": {},
   "cell_type": "markdown",
   "source": "## Parse the pages and begin scraping",
   "id": "1502cec0e7017b2e"
  },
  {
   "metadata": {
    "ExecuteTime": {
     "end_time": "2025-03-04T05:34:31.867567Z",
     "start_time": "2025-03-04T05:34:30.319735Z"
    }
   },
   "cell_type": "code",
   "source": [
    "# To parse the html page...\n",
    "parsed_page = BeautifulSoup(response_page.text, 'html.parser')\n",
    "\n",
    "hotel_listing = parsed_page.find_all('div', class_=\"listing-hotels\")"
   ],
   "id": "cf419b77fb3f5927",
   "outputs": [],
   "execution_count": 10
  },
  {
   "metadata": {
    "ExecuteTime": {
     "end_time": "2025-03-04T06:20:12.231877Z",
     "start_time": "2025-03-04T06:20:12.069786Z"
    }
   },
   "cell_type": "code",
   "source": [
    "all_hotels_listing = []\n",
    "for listing in hotel_listing:\n",
    "    hotel_name = listing.find('h2', {\"class\": \"listing-hotels-name\"}).text\n",
    "    hotel_address = listing.find('p', class_=\"listing-hotels-address color-dark\").text\n",
    "    hotel_address = \" \".join(hotel_address.split())\n",
    "    address = hotel_address.split(\" - \")[1]\n",
    "    city = hotel_address.split(\" - \")[0].split(',')[0]\n",
    "    state = hotel_address.split(\" - \")[0].split(',')[1].strip()\n",
    "    price = listing.find('p', class_=\"listing-hotels-prices-discount\").text\n",
    "    price = price.split()[0].replace(\"₦\", \"\").replace(\",\", \"\")\n",
    "    rated = listing.find(\"p\", \"listing-hotels-rating\")\n",
    "    if rated is None:\n",
    "        rating = 0.0\n",
    "        index = \"No Index\"\n",
    "    else:\n",
    "        rating = rated.text.split(\" - \")[0]\n",
    "        index = rated.text.split(\" - \")[1]\n",
    "    facility = listing.find(\"div\", class_=\"listing-hotels-facilities d-none d-md-flex\")\n",
    "    if facility is None:\n",
    "        facilities = \"No Facilities Available\"\n",
    "    else:\n",
    "        facilities = facility.find_all('div', class_=\"d-flex flex-column align-items-center\")\n",
    "        facilities = [fac.find('p').text for fac in facilities]\n",
    "        facilities = \", \".join(facilities)\n",
    "    likes = listing.find('div', class_=\"listing-hotels-likes\").text\n",
    "    likes = likes.strip().split()[0]\n",
    "    \n",
    "    # temp storage\n",
    "    hotels_listing = {\n",
    "        \"Hotel_Name\": hotel_name,\n",
    "        \"Hotel_Address\": address,\n",
    "        \"City\": city,\n",
    "        \"State\": state,\n",
    "        \"Price_Per_Night\": price,\n",
    "        \"Rating_Score\": rating,\n",
    "        \"Rating_Index\": index,\n",
    "        \"Facilities\": facilities,\n",
    "        \"Popularity\": likes\n",
    "    }\n",
    "    all_hotels_listing.append(hotels_listing)\n"
   ],
   "id": "1a619cd5d29d5008",
   "outputs": [
    {
     "name": "stdout",
     "output_type": "stream",
     "text": [
      "[{'Hotel_Name': 'Luxury City Royal', 'Hotel_Address': '84b, Aba-owerri Road', 'City': 'Aba', 'State': 'Abia', 'Price_Per_Night': '12500', 'Rating_Score': '5.8', 'Rating_Index': 'Good', 'Facilities': 'Bar, Gym, Restaurant, Pool, Internet', 'Popularity': '2,618'}, {'Hotel_Name': 'Hotel Royal Damgrete', 'Hotel_Address': '1314 Factory Road, Gra', 'City': 'Umuahia', 'State': 'Abia', 'Price_Per_Night': '35000', 'Rating_Score': '7', 'Rating_Index': 'Very Good', 'Facilities': 'Bar, Restaurant, Pool, Internet', 'Popularity': '8,003'}, {'Hotel_Name': 'City Global Hotels', 'Hotel_Address': '32 Ekenna Avenue Off Okigwe Road', 'City': 'Aba', 'State': 'Abia', 'Price_Per_Night': '9016', 'Rating_Score': '6.2', 'Rating_Index': 'Very Good', 'Facilities': 'Bar, Restaurant, Pool', 'Popularity': '2,106'}, {'Hotel_Name': 'De Merit Executive Suite ', 'Hotel_Address': '2 Amaimo Eziama Ossa, Umuahia, Nigeria.', 'City': 'Umuahia', 'State': 'Abia', 'Price_Per_Night': '8000', 'Rating_Score': '5.1', 'Rating_Index': 'Good', 'Facilities': 'Bar, Restaurant', 'Popularity': '4,605'}, {'Hotel_Name': 'Ibiza Hotel & Resorts', 'Hotel_Address': '129 Okigwe Road, Aba', 'City': 'Aba', 'State': 'Abia', 'Price_Per_Night': '55000', 'Rating_Score': 0.0, 'Rating_Index': 'No Index', 'Facilities': 'Bar, Gym, Restaurant, Pool', 'Popularity': '2,410'}, {'Hotel_Name': 'Villa Roy Hotels ', 'Hotel_Address': '19 Mission Hill', 'City': 'Umuahia', 'State': 'Abia', 'Price_Per_Night': '12000', 'Rating_Score': '7.8', 'Rating_Index': 'Very Good', 'Facilities': 'Bar', 'Popularity': '2,402'}, {'Hotel_Name': 'Craycaston Hotels & Suites', 'Hotel_Address': '19 Nwaigwe Ave, Aba 450272, Aba', 'City': 'Aba', 'State': 'Abia', 'Price_Per_Night': '35200', 'Rating_Score': 0.0, 'Rating_Index': 'No Index', 'Facilities': 'Bar, Restaurant, Pool', 'Popularity': '3,818'}, {'Hotel_Name': 'New Edge Hotel', 'Hotel_Address': '113 Aba Road, Umuahia, Nigeria', 'City': 'Umuahia', 'State': 'Abia', 'Price_Per_Night': '5400', 'Rating_Score': '7.3', 'Rating_Index': 'Very Good', 'Facilities': 'Bar, Restaurant', 'Popularity': '807'}, {'Hotel_Name': 'West Swiss Hotel', 'Hotel_Address': '23a Margaret Avenue, Gra, Aba 450101', 'City': 'Aba', 'State': 'Abia', 'Price_Per_Night': '110500', 'Rating_Score': 0.0, 'Rating_Index': 'No Index', 'Facilities': 'Bar, Pool', 'Popularity': '401'}, {'Hotel_Name': 'Gado International Hotels', 'Hotel_Address': '59 Mission Hil, Umuahia, Nigeria.', 'City': 'Umuahia', 'State': 'Abia', 'Price_Per_Night': '15500', 'Rating_Score': '7.5', 'Rating_Index': 'Very Good', 'Facilities': 'Bar, Restaurant', 'Popularity': '2,818'}]\n"
     ]
    }
   ],
   "execution_count": 45
  },
  {
   "metadata": {
    "ExecuteTime": {
     "end_time": "2025-03-04T06:21:48.423652Z",
     "start_time": "2025-03-04T06:21:46.928558Z"
    }
   },
   "cell_type": "code",
   "source": [
    "df_hotel = pd.DataFrame(all_hotels_listing)\n",
    "df_hotel.head(7)"
   ],
   "id": "500cd8275ed31db0",
   "outputs": [
    {
     "data": {
      "text/plain": [
       "                   Hotel_Name                            Hotel_Address  \\\n",
       "0           Luxury City Royal                     84b, Aba-owerri Road   \n",
       "1        Hotel Royal Damgrete                   1314 Factory Road, Gra   \n",
       "2          City Global Hotels         32 Ekenna Avenue Off Okigwe Road   \n",
       "3   De Merit Executive Suite   2 Amaimo Eziama Ossa, Umuahia, Nigeria.   \n",
       "4       Ibiza Hotel & Resorts                     129 Okigwe Road, Aba   \n",
       "5           Villa Roy Hotels                           19 Mission Hill   \n",
       "6  Craycaston Hotels & Suites          19 Nwaigwe Ave, Aba 450272, Aba   \n",
       "\n",
       "      City State Price_Per_Night Rating_Score Rating_Index  \\\n",
       "0      Aba  Abia           12500          5.8         Good   \n",
       "1  Umuahia  Abia           35000            7    Very Good   \n",
       "2      Aba  Abia            9016          6.2    Very Good   \n",
       "3  Umuahia  Abia            8000          5.1         Good   \n",
       "4      Aba  Abia           55000          0.0     No Index   \n",
       "5  Umuahia  Abia           12000          7.8    Very Good   \n",
       "6      Aba  Abia           35200          0.0     No Index   \n",
       "\n",
       "                             Facilities Popularity  \n",
       "0  Bar, Gym, Restaurant, Pool, Internet      2,618  \n",
       "1       Bar, Restaurant, Pool, Internet      8,003  \n",
       "2                 Bar, Restaurant, Pool      2,106  \n",
       "3                       Bar, Restaurant      4,605  \n",
       "4            Bar, Gym, Restaurant, Pool      2,410  \n",
       "5                                   Bar      2,402  \n",
       "6                 Bar, Restaurant, Pool      3,818  "
      ],
      "text/html": [
       "<div>\n",
       "<style scoped>\n",
       "    .dataframe tbody tr th:only-of-type {\n",
       "        vertical-align: middle;\n",
       "    }\n",
       "\n",
       "    .dataframe tbody tr th {\n",
       "        vertical-align: top;\n",
       "    }\n",
       "\n",
       "    .dataframe thead th {\n",
       "        text-align: right;\n",
       "    }\n",
       "</style>\n",
       "<table border=\"1\" class=\"dataframe\">\n",
       "  <thead>\n",
       "    <tr style=\"text-align: right;\">\n",
       "      <th></th>\n",
       "      <th>Hotel_Name</th>\n",
       "      <th>Hotel_Address</th>\n",
       "      <th>City</th>\n",
       "      <th>State</th>\n",
       "      <th>Price_Per_Night</th>\n",
       "      <th>Rating_Score</th>\n",
       "      <th>Rating_Index</th>\n",
       "      <th>Facilities</th>\n",
       "      <th>Popularity</th>\n",
       "    </tr>\n",
       "  </thead>\n",
       "  <tbody>\n",
       "    <tr>\n",
       "      <th>0</th>\n",
       "      <td>Luxury City Royal</td>\n",
       "      <td>84b, Aba-owerri Road</td>\n",
       "      <td>Aba</td>\n",
       "      <td>Abia</td>\n",
       "      <td>12500</td>\n",
       "      <td>5.8</td>\n",
       "      <td>Good</td>\n",
       "      <td>Bar, Gym, Restaurant, Pool, Internet</td>\n",
       "      <td>2,618</td>\n",
       "    </tr>\n",
       "    <tr>\n",
       "      <th>1</th>\n",
       "      <td>Hotel Royal Damgrete</td>\n",
       "      <td>1314 Factory Road, Gra</td>\n",
       "      <td>Umuahia</td>\n",
       "      <td>Abia</td>\n",
       "      <td>35000</td>\n",
       "      <td>7</td>\n",
       "      <td>Very Good</td>\n",
       "      <td>Bar, Restaurant, Pool, Internet</td>\n",
       "      <td>8,003</td>\n",
       "    </tr>\n",
       "    <tr>\n",
       "      <th>2</th>\n",
       "      <td>City Global Hotels</td>\n",
       "      <td>32 Ekenna Avenue Off Okigwe Road</td>\n",
       "      <td>Aba</td>\n",
       "      <td>Abia</td>\n",
       "      <td>9016</td>\n",
       "      <td>6.2</td>\n",
       "      <td>Very Good</td>\n",
       "      <td>Bar, Restaurant, Pool</td>\n",
       "      <td>2,106</td>\n",
       "    </tr>\n",
       "    <tr>\n",
       "      <th>3</th>\n",
       "      <td>De Merit Executive Suite</td>\n",
       "      <td>2 Amaimo Eziama Ossa, Umuahia, Nigeria.</td>\n",
       "      <td>Umuahia</td>\n",
       "      <td>Abia</td>\n",
       "      <td>8000</td>\n",
       "      <td>5.1</td>\n",
       "      <td>Good</td>\n",
       "      <td>Bar, Restaurant</td>\n",
       "      <td>4,605</td>\n",
       "    </tr>\n",
       "    <tr>\n",
       "      <th>4</th>\n",
       "      <td>Ibiza Hotel &amp; Resorts</td>\n",
       "      <td>129 Okigwe Road, Aba</td>\n",
       "      <td>Aba</td>\n",
       "      <td>Abia</td>\n",
       "      <td>55000</td>\n",
       "      <td>0.0</td>\n",
       "      <td>No Index</td>\n",
       "      <td>Bar, Gym, Restaurant, Pool</td>\n",
       "      <td>2,410</td>\n",
       "    </tr>\n",
       "    <tr>\n",
       "      <th>5</th>\n",
       "      <td>Villa Roy Hotels</td>\n",
       "      <td>19 Mission Hill</td>\n",
       "      <td>Umuahia</td>\n",
       "      <td>Abia</td>\n",
       "      <td>12000</td>\n",
       "      <td>7.8</td>\n",
       "      <td>Very Good</td>\n",
       "      <td>Bar</td>\n",
       "      <td>2,402</td>\n",
       "    </tr>\n",
       "    <tr>\n",
       "      <th>6</th>\n",
       "      <td>Craycaston Hotels &amp; Suites</td>\n",
       "      <td>19 Nwaigwe Ave, Aba 450272, Aba</td>\n",
       "      <td>Aba</td>\n",
       "      <td>Abia</td>\n",
       "      <td>35200</td>\n",
       "      <td>0.0</td>\n",
       "      <td>No Index</td>\n",
       "      <td>Bar, Restaurant, Pool</td>\n",
       "      <td>3,818</td>\n",
       "    </tr>\n",
       "  </tbody>\n",
       "</table>\n",
       "</div>"
      ]
     },
     "execution_count": 47,
     "metadata": {},
     "output_type": "execute_result"
    }
   ],
   "execution_count": 47
  }
 ],
 "metadata": {
  "kernelspec": {
   "display_name": "Python 3",
   "language": "python",
   "name": "python3"
  },
  "language_info": {
   "codemirror_mode": {
    "name": "ipython",
    "version": 2
   },
   "file_extension": ".py",
   "mimetype": "text/x-python",
   "name": "python",
   "nbconvert_exporter": "python",
   "pygments_lexer": "ipython2",
   "version": "2.7.6"
  }
 },
 "nbformat": 4,
 "nbformat_minor": 5
}
